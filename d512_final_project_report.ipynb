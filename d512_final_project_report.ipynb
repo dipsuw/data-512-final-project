{
 "cells": [
  {
   "cell_type": "markdown",
   "metadata": {
    "_cell_guid": "ea5028a5-e497-43b9-95d9-d54b9d559a0f",
    "_uuid": "e2e867859acbb5fc5b62f8a8a59439f3d1d7746c",
    "deletable": true,
    "editable": true
   },
   "source": [
    "# Need of the day: People Analytics "
   ]
  },
  {
   "cell_type": "markdown",
   "metadata": {
    "_cell_guid": "28284afb-1322-4651-935a-332efe986684",
    "_uuid": "39286a6433ae87ba47f96461c381c6b36b9e63c3",
    "deletable": true,
    "editable": true
   },
   "source": [
    "## 1. Introduction\n",
    "The goal of this project is to find a systematic pattern or trend (using employee data) and provide actionable insights towards enhancing employee retention. Per latest statistics from Bureau of labor [2], voluntary quits rose in professional and business services by 82,000 as compared to last year and is projected to increase further in future. The cost of turnover is huge and it impacts both employee and employers. \n",
    "\n",
    "For an employee, the investment employee puts in the company is wasted because the employee has to start from scratch at new workplace. Employee may not be able to realize their full potential due to frequent job shifts. Moreover, in a team with high attrition rate, morale of remaining employees is hit and they may feel disengaged. On the other hand, for an employer new employees need to be hired and trained. Losing a long-term employee leads to ‘wisdom withdrawal’ as the historical knowledge an employee gathers over the years is lost. Ongoing projects take a hit and commitments cannot be delivered in time. If we can turn to data and predict which employee will leave and why, then the employer can enrich employee at risk of leaving and make them stay. Its a win win situation for both the employer and employee.\n",
    "      \n",
    "In an effort to do a pilot study, I have created a quick prototype of a statistical model to predict attrition. Since employee data can be huge for big organizations and the number of features required to predict attrition may vary from domain to domain, I started with a simpler and smaller dataset. Kaggle competition [1] with simulated dataset [9] fits my requirements well. Analysis on this dataset provides intriguing insights on what people value the most in their job. Using these insights, employers can intervene to make employees stay. \n",
    "\n",
    "Looking at a larger picture, this research is not only applicable to employee retention but also a wide variety of similar problems across society. For example, it can also can be applied to academia where students inclined to drop out can be identified and proactive action can be taken to encourage them to continue their studies."
   ]
  },
  {
   "cell_type": "markdown",
   "metadata": {
    "deletable": true,
    "editable": true
   },
   "source": [
    "## 2. Related Work"
   ]
  },
  {
   "cell_type": "markdown",
   "metadata": {
    "deletable": true,
    "editable": true
   },
   "source": [
    "Even though industry has perennially faced the problem of attrition, using data to analyze employees and predict attrition is fairly new. Even tech companies with deep data skills never thought of applying data analytics on their own employees until recently. I got interested in this problem while doing literature survey for my capstone project. There are countless articles on linked-in [6, 7] and data science blogs [4, 8] on analyzing and predicting employee turnover. Most of the literature written on People analytics is in the last 5 years. This is very surprising as business intelligence has been used to solve various business problems for decades [3]. \n",
    "\n",
    "Despite being a relatively new analytics fields, interest of organizations in People analytics is growing. According to Harvard Business Review analytics study [14], 15% executives (out of 230) said they use “predictive analytics based on HR data and data from other sources within or outside the organization,” while 48% executives predicted they would be doing so in two years. There are several commercial offerings in the market for people analytics. Visier [12] and Workday [13] are two popular tools used by large companies. These tools pull basic employee information from company database and analyze the costs and frequency of turnover. Though these analytic tools use data to create insights and predictions of employee behaviors, all these tools are geared towards benefitting employers. Most of the tools are employer oriented and produce insights based on profitability and head count which benefits employers. Whereas my research focuses on employee centric aspect of the same problem.\n",
    "\n",
    "**Research Questions**: Goal of this research is to apply data science techniques on employee data and answer the following questions:\n",
    " * Question 1: Which employees are most likely to quit?\n",
    " * Question 2: What are the reasons for the employees to quit?\n",
    " * Question 3: Can we identify major signals, events and\\or themes which can be used by employers to enrich and retain employees?\n"
   ]
  },
  {
   "cell_type": "markdown",
   "metadata": {
    "deletable": true,
    "editable": true
   },
   "source": [
    "## 3. Methodology\n",
    "There are four major modules in this project. The module 'Data' describes the data source information and the data munging. The module 'Statistical Analysis' describes the analytical methods used to explore data. The module 'Fitting the Logistic Regression Model' describes how employees are classified using Logistic Regression. The module 'Applying Logistic Regression results' describes how probabilites from logistic regression are used to classify employees on the basis of their risk of quitting.\n",
    "\n",
   ]
  },
  {
   "cell_type": "markdown",
   "metadata": {
    "deletable": true,
    "editable": true
   },
   "source": [
    "Each module is described in detail in following subsections.\n",
    "\n",
    "### 3.1 Data:\n",
    "**Data Source and License information:** The data is borrowed from Kaggle competition [Human Resources Analytics]('https://www.kaggle.com/ludobenistant/hr-analytics/data'). This dataset is released under CC BY-SA 4.0, the details of this license can be found [here]('https://creativecommons.org/licenses/by-sa/4.0/'). There are 15000 observations in the dataset with 10 features.\n",
    "\n",
    "**Data preprocessing:** The data is fairly neat. Although there is no data processing needed for the dataset, a few column names are misleading in context of this research. For example, 'sales' column is actually the department name for the employee. This column is renamed to 'department'. Similarly, 'left' column indicates if the employee has left the job. Since 'left' is also a target variable for building the attrition model, this column name is also not suitable. 'Left' column is renamed to 'attrition'. Additional data exploration revealed that there is not missing data. There are two categorical variables in this dataset: 'department' and 'salary'. Labels are changed to numeric so that these variables can be used while fitting the model.\n",
    "\n",
    "### 3.2 Statistical Analysis: \n",
    "\n",
    "In this module, analytical methods are applied to get a sense of data. Once the data is summarized, correlation analysis is done to identify features for the classification model.\n",
    "\n",
    "**Descriptive Statistics:** First step in statistical analysis is to summarize data and find distribution of features in the dataset. Descriptive statistics is performed on the data to summarize it. As a part of descriptive statistics; mean, median, standard deviation, min, max, 25th and 75th percentile of columns with quantitative values are found.\n",
    "\n",
    "**Correlation Analysis:** Second step in statistical analysis is to find the features which are most correlated to attrition. This is done by performing correlation analysis of all features. A correlation matrix and correlation heatmap are created to find the features affecting target variable (attrition rate). Correlation analysis helped in identifying both positively and negatively correlated features. \n",
    "\n",
    "### 3.3 Fitting the Logistic Regression model:\n",
    "Logistic Regression commonly evaluates the likelihood of an observation belonging to each group. This model is used to predict the likelihood of an event occurring. In contrast to linear regression, the output of logistic regression is transformed with a logit function. This makes the output either 0 or 1. This is a useful model to take advantage of for this problem because we are interested in predicting whether an employee will leave (0) or stay (1). \n",
    "\n",
    "Logistic regression is used to classify employees on the basis of their probability to leave. Given our research questions, this is an ideal model to use for couple of reasons. First, its a very straightforward model and python provides ready to use package to apply logistic regression [10]. Second, sklearn.linear_model.LogisticRegression method 'predict_proba(X)' is used to do the classification and find the probabilities to group the employees in different bands based on their risk of leaving. To assess the quality of the model, available data is divided into appropriately sized training and test sets, and these sets are varied randomly to ensure that the models thus constructed have optimum trade off of low variance versus low bias. \n",
    "\n",
    "### 3.4 Applying Logistic Regression results:\n",
    "Probabilities calculated by Logistic regression are used to classify employees depending on their probability of quitting. Employees are classified in different bands as given below[16]:\n",
    "\n",
    "1.\t**Extremely likely** – Employees with highest probability to quit (>90%). \n",
    "2.\t**Moderately likely** – Employees with medium probability to quit (50%< p< 90%).\n",
    "3.\t**Least likely** – Employees with less than 50% probability to quit (<50%).\n",
    "\n",
    "Having identified employees with high risk of leaving, employer can take necessary actions to retain the employee."
   ]
  },
  {
   "cell_type": "markdown",
   "metadata": {
    "deletable": true,
    "editable": true
   },
   "source": [
    "## 4. Human centered research considerations\n",
    "Most of the full time employees spend at least one third of their time in job. This research helps in exploring ways on how this time can be made more productive and fruitful. Most of the research done in people analytics focuses on employer's perspective and how the results can benefit large organizations in retaining employees. This project focuses on employees and aims at finding insights on what employees value the most in their jobs. Is it the money? or the number of hours worked or time spent in the company? or the number of years since they are promoted?\n",
    "\n",
    "In order to follow all the human centered values discussed in class, three major design considerations are observed in this research; Firstly, data is ethically sourced. The source data is free to be shared and adapted as long as appropriate credit is given and changes made are indicated. The source data has not been modified for the purpose of this project. Secondly, special attention is given to make sure that data is anonymized so as to address any privacy related concerns. Last but not the least, a conscious effort is made to thoroughly document the code and data."
   ]
  },
  {
   "cell_type": "markdown",
   "metadata": {
    "deletable": true,
    "editable": true
   },
   "source": [
    "## 5. Findings\n",
    "There are some pretty interesting findings from both the statistical analysis and regression model. Findings from each module are summerized below. \n",
    "\n",
    "### 5.1 Findings from descriptive statistics\n",
    "* Mean satisfaction level of employees who stayed is 66% and employees who left is 44%. This is not so surprising finding as we expect more satisfied employees to stay with the company and less satisfied employees to quit. \n",
    "* The turnover rate for this company is 31%. This is a surprisingly high number. According to this survey[17] the maximum voluntary turnover rate within any industry is ~20%.\n",
    "* Mean last evaluation of employees who stayed and left is almost the same. This is again a very surprising finding as one would expect the performance rating to be correlated to attrition. The reason here may be that employees usually make up their mind way before evaluation and hence the rating doesnt affect the decision to quit."
   ]
  },
  {
   "cell_type": "markdown",
   "metadata": {
    "deletable": true,
    "editable": true
   },
   "source": [
    "<img src=\"last_eval.png\" width=\"400\" height=\"400\" >"
   ]
  },
  {
   "cell_type": "markdown",
   "metadata": {
    "deletable": true,
    "editable": true
   },
   "source": [
    "### 5.2 Findings from correlation analysis\n",
    "* Most positively correlated feature with employee attrition is time spent at the company(correlation coefficient: 0.144). This is somewhat expected in professional sector. After a couple of years in a company, employees want to explore new oppurtunities and challenges which may lead them to quit.\n",
    "* Most negatively correlated feature with employee attrition is satisfaction level(correlation coefficient: -0.38) and work accidents(correlation coefficient: -0.15). We have already discussed that satisfaction level is inversely correlated to attrition. The inverse correlation of work accidents with attrition is very unexpected and may need deeper analysis. One possible reason can be that work accident may lead to long paid leaves and employee may want to stay with the same company for related compensation and benefits."
   ]
  },
  {
   "cell_type": "markdown",
   "metadata": {
    "deletable": true,
    "editable": true
   },
   "source": [
    "<img src=\"heatmap.png\" width=\"500\" height=\"500\">"
   ]
  },
  {
   "cell_type": "markdown",
   "metadata": {
    "deletable": true,
    "editable": true
   },
   "source": [
    "### 5.3 Findings from logistics regression model\n",
    "* Satisfaction level is the most important factor which makes employees stay (regression coefficient is highest: -4.06). Satisfaction level has come up in all our findings above and this is definitely the most important factor to determine attrition.\n",
    "* Employees promoted in last 5 years are more likely to stay (regression coefficient is high: -1.46). This definitely makes sense that if an employee has not been promoted for 5 years, the employees career has plateaued out for some reason. Employer should make efforts to find the root cause of this stagnation.\n",
    "* Salary is not a factor which makes employees stay (regression coefficient is quite low: 0.003). This implies that money is not the only thing employees value. Satisfaction level and career growth are more important considerations for an employee."
   ]
  },
  {
   "cell_type": "markdown",
   "metadata": {
    "deletable": true,
    "editable": true
   },
   "source": [
    "<img src=\"promotion.png\" width=\"400\" height=\"400\">"
   ]
  },
  {
   "cell_type": "markdown",
   "metadata": {
    "deletable": true,
    "editable": true
   },
   "source": [
    "## 6. Discussion and Implications\n",
    "Given the findings from statistical analysis and regression model, we can draw the four major implications. Firstly, if at any point the employees satisfaction takes a hit of >30% the employee is at a risk of leaving. This is a crucial datapoint for an employer to intervene. Secondly, if an employee has not been promoted in last 4 years, employer should dig deeper to find the root cause. There can be various reasons for an employee to be not promoted such as employee is in the wrong role, wrong team or does not have conducive team environment. Thirdly, money is not the only thing which employees value. There are other factors  of value such as dignity, happiness, respect and recognition. Lastly, evaluation rating does not affect employees decision to stay. This implies that employers shouldn't bank on performance ratings as a datapoint to evaluate whether the employee is at risk of leaving or not. Employees usually make up their mind way before evaluation and hence the rating doesnt affect the decision to quit.\n",
    "\n",
    "### 6.1 Limitations\n",
    "* One of the biggest limitation of this dataset is that it does not contain time series data. If we had a time element in data, we could have estimated the probability of employee attrition over time. Survival analysis [8] would have been a great statistical measure for this purpose.\n",
    "* This model is a prototype for building more complex models on real life data. This model uses simulated dataset with very limited number of features."
   ]
  },
  {
   "cell_type": "markdown",
   "metadata": {
    "deletable": true,
    "editable": true
   },
   "source": [
    "## 7. Conclusion\n",
    "This project focuses on employees and aims at finding insights on what employees value the most in their jobs. The research successfully helped in exploring reasons on voluntary quits by employees. Using logistic regression on this dataset, we could predict employee attrition with an accuracy of ~76%. The probabilities calculated for each employee can be further used to enrich employees by providing personalized support and benefits. This is a win-win situation for both employer and employee. Significant findings from the research are summarized below:\n",
    "* Satisfaction level of employees is the most important factor which determines employee turnover\n",
    "* Employees promoted in last 5 years are more likely to stay\n",
    "* Salary is not strongly correlated to attrition \n",
    "* Last evaluation for employees makes no difference in their decision to stay \n"
   ]
  },
  {
   "cell_type": "markdown",
   "metadata": {
    "deletable": true,
    "editable": true
   },
   "source": [
    "## 8. References\n",
    "* [1] Kaggle project https://www.kaggle.com/ludobenistant/hr-analytics\n",
    "* [2] Latest report from Bureau of Labour https://www.bls.gov/news.release/jolts.nr0.htm \n",
    "* [3] History of business intelligence https://www.betterbuys.com/bi/history-of-business-intelligence/\n",
    "* [4] Article on solving attrition with data https://towardsdatascience.com/solving-staff-attrition-with-data-3f09af2694cd \n",
    "* [5] Article on descriptive statistics https://www.marsja.se/pandas-python-descriptive-statistics/ \n",
    "* [6] Helpful linked in artcile on predicting employee attrition https://www.linkedin.com/pulse/predicting-employee-attrition-who-quit-when-praful-tickoo/\n",
    "* [7] Helpful linked in artciles on predicting employee attrition  https://www.linkedin.com/pulse/analyzing-employee-turnover-predictive-methods-richard-rosenow-pmp/\n",
    "* [8] Use of Survival analysis for predicting attrition https://www.slideshare.net/twbriggs/survival-analysis-for-predicting-employee-turnover/24\n",
    "* [9] Kaggle dataset https://www.kaggle.com/ludobenistant/hr-analytics/data\n",
    "* [10]sklearn logistic regression http://scikit-learn.org/stable/modules/generated/sklearn.linear_model.LogisticRegression.html\n",
    "* [11]Logistic Regression example https://towardsdatascience.com/building-a-logistic-regression-in-python-step-by-step-becd4d56c9c8\n",
    "* [12] Workforce analytics tool Visier https://www.visier.com/solutions/predict/\n",
    "* [13] People analytics by Workday https://www.workday.com/en-us/applications/human-capital-management/people-analytics.html\n",
    "* [14] Harvard Business Review article https://hbr.org/2017/06/hr-must-make-people-analytics-more-user-friendly\n",
    "* [15] Categorical Encoding http://pbpython.com/categorical-encoding.html\n",
    "* [16] Employee Attrition Risk Assessment paper http://rupeshkhare.com/wp-content/uploads/2013/12/Employee-Attrition-Risk-Assessment-using-Logistic-Regression-Analysis.pdfhttp://www.compensationforce.com/2017/04/2016-turnover-rates-by-industry.html\n",
    "* [17] Turnover rates by industry http://www.compensationforce.com/2017/04/2016-turnover-rates-by-industry.html"
   ]
  },
  {
   "cell_type": "markdown",
   "metadata": {
    "deletable": true,
    "editable": true
   },
   "source": [
    "## 9. Attributions\n",
    "* Link to the license for data https://creativecommons.org/licenses/by-sa/4.0/\n",
    "* Changes to data: The values have not been changed in data. However there are few cosmetic changes made in data as follows:\n",
    "    - 'sales' column name changed to 'department'\n",
    "    - 'left' column name changed to 'attrition'\n",
    "    - 'salary' column encoded to quantitative values [15]\n",
    "    - 'department' column encoded to quantitative values [15]"
   ]
  },
  {
   "cell_type": "markdown",
   "metadata": {
    "deletable": true,
    "editable": true
   },
   "source": [
    "## 10. Code"
   ]
  },
  {
   "cell_type": "markdown",
   "metadata": {
    "deletable": true,
    "editable": true
   },
   "source": [
    "#### Import required libraries"
   ]
  },
  {
   "cell_type": "code",
   "execution_count": 77,
   "metadata": {
    "collapsed": false,
    "deletable": true,
    "editable": true
   },
   "outputs": [],
   "source": [
    "# importing modules\n",
    "import pandas as pd\n",
    "import seaborn as sbn\n",
    "import sklearn\n",
    "from sklearn.linear_model import LogisticRegression\n",
    "from sklearn import preprocessing\n",
    "import numpy as np"
   ]
  },
  {
   "cell_type": "code",
   "execution_count": 78,
   "metadata": {
    "collapsed": true,
    "deletable": true,
    "editable": true
   },
   "outputs": [],
   "source": [
    "import matplotlib.pyplot as plt\n",
    "import matplotlib as matplot\n",
    "%matplotlib inline"
   ]
  },
  {
   "cell_type": "markdown",
   "metadata": {
    "deletable": true,
    "editable": true
   },
   "source": [
    "#### Get a glimpse of data"
   ]
  },
  {
   "cell_type": "code",
   "execution_count": 79,
   "metadata": {
    "collapsed": false,
    "deletable": true,
    "editable": true
   },
   "outputs": [
    {
     "data": {
      "text/html": [
       "<div>\n",
       "<table border=\"1\" class=\"dataframe\">\n",
       "  <thead>\n",
       "    <tr style=\"text-align: right;\">\n",
       "      <th></th>\n",
       "      <th>satisfaction_level</th>\n",
       "      <th>last_evaluation</th>\n",
       "      <th>number_project</th>\n",
       "      <th>average_montly_hours</th>\n",
       "      <th>time_spend_company</th>\n",
       "      <th>Work_accident</th>\n",
       "      <th>left</th>\n",
       "      <th>promotion_last_5years</th>\n",
       "      <th>sales</th>\n",
       "      <th>salary</th>\n",
       "    </tr>\n",
       "  </thead>\n",
       "  <tbody>\n",
       "    <tr>\n",
       "      <th>0</th>\n",
       "      <td>0.38</td>\n",
       "      <td>0.53</td>\n",
       "      <td>2</td>\n",
       "      <td>157</td>\n",
       "      <td>3</td>\n",
       "      <td>0</td>\n",
       "      <td>1</td>\n",
       "      <td>0</td>\n",
       "      <td>sales</td>\n",
       "      <td>low</td>\n",
       "    </tr>\n",
       "    <tr>\n",
       "      <th>1</th>\n",
       "      <td>0.80</td>\n",
       "      <td>0.86</td>\n",
       "      <td>5</td>\n",
       "      <td>262</td>\n",
       "      <td>6</td>\n",
       "      <td>0</td>\n",
       "      <td>1</td>\n",
       "      <td>0</td>\n",
       "      <td>sales</td>\n",
       "      <td>medium</td>\n",
       "    </tr>\n",
       "    <tr>\n",
       "      <th>2</th>\n",
       "      <td>0.11</td>\n",
       "      <td>0.88</td>\n",
       "      <td>7</td>\n",
       "      <td>272</td>\n",
       "      <td>4</td>\n",
       "      <td>0</td>\n",
       "      <td>1</td>\n",
       "      <td>0</td>\n",
       "      <td>sales</td>\n",
       "      <td>medium</td>\n",
       "    </tr>\n",
       "    <tr>\n",
       "      <th>3</th>\n",
       "      <td>0.72</td>\n",
       "      <td>0.87</td>\n",
       "      <td>5</td>\n",
       "      <td>223</td>\n",
       "      <td>5</td>\n",
       "      <td>0</td>\n",
       "      <td>1</td>\n",
       "      <td>0</td>\n",
       "      <td>sales</td>\n",
       "      <td>low</td>\n",
       "    </tr>\n",
       "    <tr>\n",
       "      <th>4</th>\n",
       "      <td>0.37</td>\n",
       "      <td>0.52</td>\n",
       "      <td>2</td>\n",
       "      <td>159</td>\n",
       "      <td>3</td>\n",
       "      <td>0</td>\n",
       "      <td>1</td>\n",
       "      <td>0</td>\n",
       "      <td>sales</td>\n",
       "      <td>low</td>\n",
       "    </tr>\n",
       "  </tbody>\n",
       "</table>\n",
       "</div>"
      ],
      "text/plain": [
       "   satisfaction_level  last_evaluation  number_project  average_montly_hours  \\\n",
       "0                0.38             0.53               2                   157   \n",
       "1                0.80             0.86               5                   262   \n",
       "2                0.11             0.88               7                   272   \n",
       "3                0.72             0.87               5                   223   \n",
       "4                0.37             0.52               2                   159   \n",
       "\n",
       "   time_spend_company  Work_accident  left  promotion_last_5years  sales  \\\n",
       "0                   3              0     1                      0  sales   \n",
       "1                   6              0     1                      0  sales   \n",
       "2                   4              0     1                      0  sales   \n",
       "3                   5              0     1                      0  sales   \n",
       "4                   3              0     1                      0  sales   \n",
       "\n",
       "   salary  \n",
       "0     low  \n",
       "1  medium  \n",
       "2  medium  \n",
       "3     low  \n",
       "4     low  "
      ]
     },
     "execution_count": 79,
     "metadata": {},
     "output_type": "execute_result"
    }
   ],
   "source": [
    "# importing the csv into dataframe\n",
    "data = pd.DataFrame.from_csv('HR_comma_sep.csv', index_col=None)\n",
    "data.head()"
   ]
  },
  {
   "cell_type": "code",
   "execution_count": 80,
   "metadata": {
    "collapsed": false,
    "deletable": true,
    "editable": true
   },
   "outputs": [],
   "source": [
    "# Changing column names to make them more understandable\n",
    "data['attrition'] = data['left']\n",
    "data['department'] = data['sales']\n",
    "\n",
    "data.drop('left', axis=1, inplace='true')\n",
    "data.drop('sales', axis=1, inplace='true')\n",
    "\n",
    "data = data[['attrition', 'department', 'satisfaction_level', 'last_evaluation', 'number_project',\n",
    "       'average_montly_hours', 'time_spend_company', 'Work_accident',\n",
    "       'promotion_last_5years', 'salary']]"
   ]
  },
  {
   "cell_type": "code",
   "execution_count": 81,
   "metadata": {
    "collapsed": false,
    "deletable": true,
    "editable": true
   },
   "outputs": [
    {
     "data": {
      "text/html": [
       "<div>\n",
       "<table border=\"1\" class=\"dataframe\">\n",
       "  <thead>\n",
       "    <tr style=\"text-align: right;\">\n",
       "      <th></th>\n",
       "      <th>attrition</th>\n",
       "      <th>department</th>\n",
       "      <th>satisfaction_level</th>\n",
       "      <th>last_evaluation</th>\n",
       "      <th>number_project</th>\n",
       "      <th>average_montly_hours</th>\n",
       "      <th>time_spend_company</th>\n",
       "      <th>Work_accident</th>\n",
       "      <th>promotion_last_5years</th>\n",
       "      <th>salary</th>\n",
       "    </tr>\n",
       "  </thead>\n",
       "  <tbody>\n",
       "    <tr>\n",
       "      <th>0</th>\n",
       "      <td>1</td>\n",
       "      <td>sales</td>\n",
       "      <td>0.38</td>\n",
       "      <td>0.53</td>\n",
       "      <td>2</td>\n",
       "      <td>157</td>\n",
       "      <td>3</td>\n",
       "      <td>0</td>\n",
       "      <td>0</td>\n",
       "      <td>low</td>\n",
       "    </tr>\n",
       "    <tr>\n",
       "      <th>1</th>\n",
       "      <td>1</td>\n",
       "      <td>sales</td>\n",
       "      <td>0.80</td>\n",
       "      <td>0.86</td>\n",
       "      <td>5</td>\n",
       "      <td>262</td>\n",
       "      <td>6</td>\n",
       "      <td>0</td>\n",
       "      <td>0</td>\n",
       "      <td>medium</td>\n",
       "    </tr>\n",
       "    <tr>\n",
       "      <th>2</th>\n",
       "      <td>1</td>\n",
       "      <td>sales</td>\n",
       "      <td>0.11</td>\n",
       "      <td>0.88</td>\n",
       "      <td>7</td>\n",
       "      <td>272</td>\n",
       "      <td>4</td>\n",
       "      <td>0</td>\n",
       "      <td>0</td>\n",
       "      <td>medium</td>\n",
       "    </tr>\n",
       "    <tr>\n",
       "      <th>3</th>\n",
       "      <td>1</td>\n",
       "      <td>sales</td>\n",
       "      <td>0.72</td>\n",
       "      <td>0.87</td>\n",
       "      <td>5</td>\n",
       "      <td>223</td>\n",
       "      <td>5</td>\n",
       "      <td>0</td>\n",
       "      <td>0</td>\n",
       "      <td>low</td>\n",
       "    </tr>\n",
       "    <tr>\n",
       "      <th>4</th>\n",
       "      <td>1</td>\n",
       "      <td>sales</td>\n",
       "      <td>0.37</td>\n",
       "      <td>0.52</td>\n",
       "      <td>2</td>\n",
       "      <td>159</td>\n",
       "      <td>3</td>\n",
       "      <td>0</td>\n",
       "      <td>0</td>\n",
       "      <td>low</td>\n",
       "    </tr>\n",
       "  </tbody>\n",
       "</table>\n",
       "</div>"
      ],
      "text/plain": [
       "   attrition department  satisfaction_level  last_evaluation  number_project  \\\n",
       "0          1      sales                0.38             0.53               2   \n",
       "1          1      sales                0.80             0.86               5   \n",
       "2          1      sales                0.11             0.88               7   \n",
       "3          1      sales                0.72             0.87               5   \n",
       "4          1      sales                0.37             0.52               2   \n",
       "\n",
       "   average_montly_hours  time_spend_company  Work_accident  \\\n",
       "0                   157                   3              0   \n",
       "1                   262                   6              0   \n",
       "2                   272                   4              0   \n",
       "3                   223                   5              0   \n",
       "4                   159                   3              0   \n",
       "\n",
       "   promotion_last_5years  salary  \n",
       "0                      0     low  \n",
       "1                      0  medium  \n",
       "2                      0  medium  \n",
       "3                      0     low  \n",
       "4                      0     low  "
      ]
     },
     "execution_count": 81,
     "metadata": {},
     "output_type": "execute_result"
    }
   ],
   "source": [
    "data.head()"
   ]
  },
  {
   "cell_type": "markdown",
   "metadata": {
    "deletable": true,
    "editable": true
   },
   "source": [
    "&nbsp;&nbsp;&nbsp;&nbsp;&nbsp;&nbsp;There are 2 categorical variables in this dataset: 'department' and 'salary'. We need to change the labels to numeric so that we can use these variables while fitting the model."
   ]
  },
  {
   "cell_type": "code",
   "execution_count": 82,
   "metadata": {
    "collapsed": false,
    "deletable": true,
    "editable": true
   },
   "outputs": [
    {
     "data": {
      "text/plain": [
       "array(['sales', 'accounting', 'hr', 'technical', 'support', 'management',\n",
       "       'IT', 'product_mng', 'marketing', 'RandD'], dtype=object)"
      ]
     },
     "execution_count": 82,
     "metadata": {},
     "output_type": "execute_result"
    }
   ],
   "source": [
    "# Get unique departments\n",
    "data['department'].unique()"
   ]
  },
  {
   "cell_type": "code",
   "execution_count": 83,
   "metadata": {
    "collapsed": false,
    "deletable": true,
    "editable": true
   },
   "outputs": [
    {
     "data": {
      "text/plain": [
       "array(['low', 'medium', 'high'], dtype=object)"
      ]
     },
     "execution_count": 83,
     "metadata": {},
     "output_type": "execute_result"
    }
   ],
   "source": [
    "# Get unique salaries\n",
    "data['salary'].unique()"
   ]
  },
  {
   "cell_type": "code",
   "execution_count": 84,
   "metadata": {
    "collapsed": true,
    "deletable": true,
    "editable": true
   },
   "outputs": [],
   "source": [
    "# Transform the salary categorical to numeric so that it can be fit into model\n",
    "le_salary = preprocessing.LabelEncoder()\n",
    "data['salary'] = le_salary.fit_transform(data['salary'])"
   ]
  },
  {
   "cell_type": "code",
   "execution_count": 85,
   "metadata": {
    "collapsed": false,
    "deletable": true,
    "editable": true
   },
   "outputs": [
    {
     "data": {
      "text/plain": [
       "array([1, 2, 0], dtype=int64)"
      ]
     },
     "execution_count": 85,
     "metadata": {},
     "output_type": "execute_result"
    }
   ],
   "source": [
    "# Get unique salary\n",
    "data['salary'].unique()"
   ]
  },
  {
   "cell_type": "code",
   "execution_count": 86,
   "metadata": {
    "collapsed": true,
    "deletable": true,
    "editable": true
   },
   "outputs": [],
   "source": [
    "# Transform the department categorical to numeric so that it can be fit into model\n",
    "le_dept = preprocessing.LabelEncoder()\n",
    "data['department'] = le_dept.fit_transform(data['department'])"
   ]
  },
  {
   "cell_type": "code",
   "execution_count": 87,
   "metadata": {
    "collapsed": false,
    "deletable": true,
    "editable": true
   },
   "outputs": [
    {
     "data": {
      "text/plain": [
       "array([7, 2, 3, 9, 8, 4, 0, 6, 5, 1], dtype=int64)"
      ]
     },
     "execution_count": 87,
     "metadata": {},
     "output_type": "execute_result"
    }
   ],
   "source": [
    "# Get unique department\n",
    "data['department'].unique()"
   ]
  },
  {
   "cell_type": "code",
   "execution_count": 88,
   "metadata": {
    "collapsed": false,
    "deletable": true,
    "editable": true
   },
   "outputs": [
    {
     "name": "stdout",
     "output_type": "stream",
     "text": [
      "rows, column: (14999, 10)\n"
     ]
    },
    {
     "data": {
      "text/html": [
       "<div>\n",
       "<table border=\"1\" class=\"dataframe\">\n",
       "  <thead>\n",
       "    <tr style=\"text-align: right;\">\n",
       "      <th></th>\n",
       "      <th>attrition</th>\n",
       "      <th>department</th>\n",
       "      <th>satisfaction_level</th>\n",
       "      <th>last_evaluation</th>\n",
       "      <th>number_project</th>\n",
       "      <th>average_montly_hours</th>\n",
       "      <th>time_spend_company</th>\n",
       "      <th>Work_accident</th>\n",
       "      <th>promotion_last_5years</th>\n",
       "      <th>salary</th>\n",
       "    </tr>\n",
       "  </thead>\n",
       "  <tbody>\n",
       "    <tr>\n",
       "      <th>count</th>\n",
       "      <td>14999.000000</td>\n",
       "      <td>14999.000000</td>\n",
       "      <td>14999.000000</td>\n",
       "      <td>14999.000000</td>\n",
       "      <td>14999.000000</td>\n",
       "      <td>14999.000000</td>\n",
       "      <td>14999.000000</td>\n",
       "      <td>14999.000000</td>\n",
       "      <td>14999.000000</td>\n",
       "      <td>14999.000000</td>\n",
       "    </tr>\n",
       "    <tr>\n",
       "      <th>mean</th>\n",
       "      <td>0.238083</td>\n",
       "      <td>5.870525</td>\n",
       "      <td>0.612834</td>\n",
       "      <td>0.716102</td>\n",
       "      <td>3.803054</td>\n",
       "      <td>201.050337</td>\n",
       "      <td>3.498233</td>\n",
       "      <td>0.144610</td>\n",
       "      <td>0.021268</td>\n",
       "      <td>1.347290</td>\n",
       "    </tr>\n",
       "    <tr>\n",
       "      <th>std</th>\n",
       "      <td>0.425924</td>\n",
       "      <td>2.868786</td>\n",
       "      <td>0.248631</td>\n",
       "      <td>0.171169</td>\n",
       "      <td>1.232592</td>\n",
       "      <td>49.943099</td>\n",
       "      <td>1.460136</td>\n",
       "      <td>0.351719</td>\n",
       "      <td>0.144281</td>\n",
       "      <td>0.625819</td>\n",
       "    </tr>\n",
       "    <tr>\n",
       "      <th>min</th>\n",
       "      <td>0.000000</td>\n",
       "      <td>0.000000</td>\n",
       "      <td>0.090000</td>\n",
       "      <td>0.360000</td>\n",
       "      <td>2.000000</td>\n",
       "      <td>96.000000</td>\n",
       "      <td>2.000000</td>\n",
       "      <td>0.000000</td>\n",
       "      <td>0.000000</td>\n",
       "      <td>0.000000</td>\n",
       "    </tr>\n",
       "    <tr>\n",
       "      <th>25%</th>\n",
       "      <td>0.000000</td>\n",
       "      <td>4.000000</td>\n",
       "      <td>0.440000</td>\n",
       "      <td>0.560000</td>\n",
       "      <td>3.000000</td>\n",
       "      <td>156.000000</td>\n",
       "      <td>3.000000</td>\n",
       "      <td>0.000000</td>\n",
       "      <td>0.000000</td>\n",
       "      <td>1.000000</td>\n",
       "    </tr>\n",
       "    <tr>\n",
       "      <th>50%</th>\n",
       "      <td>0.000000</td>\n",
       "      <td>7.000000</td>\n",
       "      <td>0.640000</td>\n",
       "      <td>0.720000</td>\n",
       "      <td>4.000000</td>\n",
       "      <td>200.000000</td>\n",
       "      <td>3.000000</td>\n",
       "      <td>0.000000</td>\n",
       "      <td>0.000000</td>\n",
       "      <td>1.000000</td>\n",
       "    </tr>\n",
       "    <tr>\n",
       "      <th>75%</th>\n",
       "      <td>0.000000</td>\n",
       "      <td>8.000000</td>\n",
       "      <td>0.820000</td>\n",
       "      <td>0.870000</td>\n",
       "      <td>5.000000</td>\n",
       "      <td>245.000000</td>\n",
       "      <td>4.000000</td>\n",
       "      <td>0.000000</td>\n",
       "      <td>0.000000</td>\n",
       "      <td>2.000000</td>\n",
       "    </tr>\n",
       "    <tr>\n",
       "      <th>max</th>\n",
       "      <td>1.000000</td>\n",
       "      <td>9.000000</td>\n",
       "      <td>1.000000</td>\n",
       "      <td>1.000000</td>\n",
       "      <td>7.000000</td>\n",
       "      <td>310.000000</td>\n",
       "      <td>10.000000</td>\n",
       "      <td>1.000000</td>\n",
       "      <td>1.000000</td>\n",
       "      <td>2.000000</td>\n",
       "    </tr>\n",
       "  </tbody>\n",
       "</table>\n",
       "</div>"
      ],
      "text/plain": [
       "          attrition    department  satisfaction_level  last_evaluation  \\\n",
       "count  14999.000000  14999.000000        14999.000000     14999.000000   \n",
       "mean       0.238083      5.870525            0.612834         0.716102   \n",
       "std        0.425924      2.868786            0.248631         0.171169   \n",
       "min        0.000000      0.000000            0.090000         0.360000   \n",
       "25%        0.000000      4.000000            0.440000         0.560000   \n",
       "50%        0.000000      7.000000            0.640000         0.720000   \n",
       "75%        0.000000      8.000000            0.820000         0.870000   \n",
       "max        1.000000      9.000000            1.000000         1.000000   \n",
       "\n",
       "       number_project  average_montly_hours  time_spend_company  \\\n",
       "count    14999.000000          14999.000000        14999.000000   \n",
       "mean         3.803054            201.050337            3.498233   \n",
       "std          1.232592             49.943099            1.460136   \n",
       "min          2.000000             96.000000            2.000000   \n",
       "25%          3.000000            156.000000            3.000000   \n",
       "50%          4.000000            200.000000            3.000000   \n",
       "75%          5.000000            245.000000            4.000000   \n",
       "max          7.000000            310.000000           10.000000   \n",
       "\n",
       "       Work_accident  promotion_last_5years        salary  \n",
       "count   14999.000000           14999.000000  14999.000000  \n",
       "mean        0.144610               0.021268      1.347290  \n",
       "std         0.351719               0.144281      0.625819  \n",
       "min         0.000000               0.000000      0.000000  \n",
       "25%         0.000000               0.000000      1.000000  \n",
       "50%         0.000000               0.000000      1.000000  \n",
       "75%         0.000000               0.000000      2.000000  \n",
       "max         1.000000               1.000000      2.000000  "
      ]
     },
     "execution_count": 88,
     "metadata": {},
     "output_type": "execute_result"
    }
   ],
   "source": [
    "# describe data\n",
    "print('rows, column:',data.shape)\n",
    "data.describe()"
   ]
  },
  {
   "cell_type": "code",
   "execution_count": 89,
   "metadata": {
    "collapsed": false,
    "deletable": true,
    "editable": true
   },
   "outputs": [
    {
     "data": {
      "text/html": [
       "<div>\n",
       "<table border=\"1\" class=\"dataframe\">\n",
       "  <thead>\n",
       "    <tr style=\"text-align: right;\">\n",
       "      <th></th>\n",
       "      <th>department</th>\n",
       "      <th>satisfaction_level</th>\n",
       "      <th>last_evaluation</th>\n",
       "      <th>number_project</th>\n",
       "      <th>average_montly_hours</th>\n",
       "      <th>time_spend_company</th>\n",
       "      <th>Work_accident</th>\n",
       "      <th>promotion_last_5years</th>\n",
       "      <th>salary</th>\n",
       "    </tr>\n",
       "    <tr>\n",
       "      <th>attrition</th>\n",
       "      <th></th>\n",
       "      <th></th>\n",
       "      <th></th>\n",
       "      <th></th>\n",
       "      <th></th>\n",
       "      <th></th>\n",
       "      <th></th>\n",
       "      <th></th>\n",
       "      <th></th>\n",
       "    </tr>\n",
       "  </thead>\n",
       "  <tbody>\n",
       "    <tr>\n",
       "      <th>0</th>\n",
       "      <td>5.819041</td>\n",
       "      <td>0.666810</td>\n",
       "      <td>0.715473</td>\n",
       "      <td>3.786664</td>\n",
       "      <td>199.060203</td>\n",
       "      <td>3.380032</td>\n",
       "      <td>0.175009</td>\n",
       "      <td>0.026251</td>\n",
       "      <td>1.347742</td>\n",
       "    </tr>\n",
       "    <tr>\n",
       "      <th>1</th>\n",
       "      <td>6.035284</td>\n",
       "      <td>0.440098</td>\n",
       "      <td>0.718113</td>\n",
       "      <td>3.855503</td>\n",
       "      <td>207.419210</td>\n",
       "      <td>3.876505</td>\n",
       "      <td>0.047326</td>\n",
       "      <td>0.005321</td>\n",
       "      <td>1.345842</td>\n",
       "    </tr>\n",
       "  </tbody>\n",
       "</table>\n",
       "</div>"
      ],
      "text/plain": [
       "           department  satisfaction_level  last_evaluation  number_project  \\\n",
       "attrition                                                                    \n",
       "0            5.819041            0.666810         0.715473        3.786664   \n",
       "1            6.035284            0.440098         0.718113        3.855503   \n",
       "\n",
       "           average_montly_hours  time_spend_company  Work_accident  \\\n",
       "attrition                                                            \n",
       "0                    199.060203            3.380032       0.175009   \n",
       "1                    207.419210            3.876505       0.047326   \n",
       "\n",
       "           promotion_last_5years    salary  \n",
       "attrition                                   \n",
       "0                       0.026251  1.347742  \n",
       "1                       0.005321  1.345842  "
      ]
     },
     "execution_count": 89,
     "metadata": {},
     "output_type": "execute_result"
    }
   ],
   "source": [
    "# Group by attrition and find the mean\n",
    "data.groupby('attrition').mean()"
   ]
  },
  {
   "cell_type": "code",
   "execution_count": 90,
   "metadata": {
    "collapsed": false,
    "deletable": true,
    "editable": true
   },
   "outputs": [
    {
     "data": {
      "text/html": [
       "<div>\n",
       "<table border=\"1\" class=\"dataframe\">\n",
       "  <thead>\n",
       "    <tr style=\"text-align: right;\">\n",
       "      <th></th>\n",
       "      <th>department</th>\n",
       "      <th>satisfaction_level</th>\n",
       "      <th>last_evaluation</th>\n",
       "      <th>number_project</th>\n",
       "      <th>average_montly_hours</th>\n",
       "      <th>time_spend_company</th>\n",
       "      <th>Work_accident</th>\n",
       "      <th>promotion_last_5years</th>\n",
       "      <th>salary</th>\n",
       "    </tr>\n",
       "    <tr>\n",
       "      <th>attrition</th>\n",
       "      <th></th>\n",
       "      <th></th>\n",
       "      <th></th>\n",
       "      <th></th>\n",
       "      <th></th>\n",
       "      <th></th>\n",
       "      <th></th>\n",
       "      <th></th>\n",
       "      <th></th>\n",
       "    </tr>\n",
       "  </thead>\n",
       "  <tbody>\n",
       "    <tr>\n",
       "      <th>0</th>\n",
       "      <td>11428</td>\n",
       "      <td>11428</td>\n",
       "      <td>11428</td>\n",
       "      <td>11428</td>\n",
       "      <td>11428</td>\n",
       "      <td>11428</td>\n",
       "      <td>11428</td>\n",
       "      <td>11428</td>\n",
       "      <td>11428</td>\n",
       "    </tr>\n",
       "    <tr>\n",
       "      <th>1</th>\n",
       "      <td>3571</td>\n",
       "      <td>3571</td>\n",
       "      <td>3571</td>\n",
       "      <td>3571</td>\n",
       "      <td>3571</td>\n",
       "      <td>3571</td>\n",
       "      <td>3571</td>\n",
       "      <td>3571</td>\n",
       "      <td>3571</td>\n",
       "    </tr>\n",
       "  </tbody>\n",
       "</table>\n",
       "</div>"
      ],
      "text/plain": [
       "           department  satisfaction_level  last_evaluation  number_project  \\\n",
       "attrition                                                                    \n",
       "0               11428               11428            11428           11428   \n",
       "1                3571                3571             3571            3571   \n",
       "\n",
       "           average_montly_hours  time_spend_company  Work_accident  \\\n",
       "attrition                                                            \n",
       "0                         11428               11428          11428   \n",
       "1                          3571                3571           3571   \n",
       "\n",
       "           promotion_last_5years  salary  \n",
       "attrition                                 \n",
       "0                          11428   11428  \n",
       "1                           3571    3571  "
      ]
     },
     "execution_count": 90,
     "metadata": {},
     "output_type": "execute_result"
    }
   ],
   "source": [
    "# Group by attrition and get the count\n",
    "data.groupby('attrition').count()"
   ]
  },
  {
   "cell_type": "markdown",
   "metadata": {
    "deletable": true,
    "editable": true
   },
   "source": [
    "#### Summary of data based on above table:\n",
    "* About 15,000 employee observations and 10 features\n",
    "* Mean satisfaction of employees who stayed is 0.66%\n",
    "* The turnover rate is 31% which is very high"
   ]
  },
  {
   "cell_type": "code",
   "execution_count": 91,
   "metadata": {
    "collapsed": false,
    "deletable": true,
    "editable": true
   },
   "outputs": [
    {
     "data": {
      "text/html": [
       "<div>\n",
       "<table border=\"1\" class=\"dataframe\">\n",
       "  <thead>\n",
       "    <tr style=\"text-align: right;\">\n",
       "      <th></th>\n",
       "      <th>attrition</th>\n",
       "      <th>department</th>\n",
       "      <th>satisfaction_level</th>\n",
       "      <th>last_evaluation</th>\n",
       "      <th>number_project</th>\n",
       "      <th>average_montly_hours</th>\n",
       "      <th>time_spend_company</th>\n",
       "      <th>Work_accident</th>\n",
       "      <th>promotion_last_5years</th>\n",
       "      <th>salary</th>\n",
       "    </tr>\n",
       "  </thead>\n",
       "  <tbody>\n",
       "    <tr>\n",
       "      <th>attrition</th>\n",
       "      <td>1.000000</td>\n",
       "      <td>0.032105</td>\n",
       "      <td>-0.388375</td>\n",
       "      <td>0.006567</td>\n",
       "      <td>0.023787</td>\n",
       "      <td>0.071287</td>\n",
       "      <td>0.144822</td>\n",
       "      <td>-0.154622</td>\n",
       "      <td>-0.061788</td>\n",
       "      <td>-0.001294</td>\n",
       "    </tr>\n",
       "    <tr>\n",
       "      <th>department</th>\n",
       "      <td>0.032105</td>\n",
       "      <td>1.000000</td>\n",
       "      <td>0.003153</td>\n",
       "      <td>0.007772</td>\n",
       "      <td>0.009268</td>\n",
       "      <td>0.003913</td>\n",
       "      <td>-0.018010</td>\n",
       "      <td>0.003425</td>\n",
       "      <td>-0.027336</td>\n",
       "      <td>0.000685</td>\n",
       "    </tr>\n",
       "    <tr>\n",
       "      <th>satisfaction_level</th>\n",
       "      <td>-0.388375</td>\n",
       "      <td>0.003153</td>\n",
       "      <td>1.000000</td>\n",
       "      <td>0.105021</td>\n",
       "      <td>-0.142970</td>\n",
       "      <td>-0.020048</td>\n",
       "      <td>-0.100866</td>\n",
       "      <td>0.058697</td>\n",
       "      <td>0.025605</td>\n",
       "      <td>0.011754</td>\n",
       "    </tr>\n",
       "    <tr>\n",
       "      <th>last_evaluation</th>\n",
       "      <td>0.006567</td>\n",
       "      <td>0.007772</td>\n",
       "      <td>0.105021</td>\n",
       "      <td>1.000000</td>\n",
       "      <td>0.349333</td>\n",
       "      <td>0.339742</td>\n",
       "      <td>0.131591</td>\n",
       "      <td>-0.007104</td>\n",
       "      <td>-0.008684</td>\n",
       "      <td>0.013965</td>\n",
       "    </tr>\n",
       "    <tr>\n",
       "      <th>number_project</th>\n",
       "      <td>0.023787</td>\n",
       "      <td>0.009268</td>\n",
       "      <td>-0.142970</td>\n",
       "      <td>0.349333</td>\n",
       "      <td>1.000000</td>\n",
       "      <td>0.417211</td>\n",
       "      <td>0.196786</td>\n",
       "      <td>-0.004741</td>\n",
       "      <td>-0.006064</td>\n",
       "      <td>0.009672</td>\n",
       "    </tr>\n",
       "    <tr>\n",
       "      <th>average_montly_hours</th>\n",
       "      <td>0.071287</td>\n",
       "      <td>0.003913</td>\n",
       "      <td>-0.020048</td>\n",
       "      <td>0.339742</td>\n",
       "      <td>0.417211</td>\n",
       "      <td>1.000000</td>\n",
       "      <td>0.127755</td>\n",
       "      <td>-0.010143</td>\n",
       "      <td>-0.003544</td>\n",
       "      <td>0.007082</td>\n",
       "    </tr>\n",
       "    <tr>\n",
       "      <th>time_spend_company</th>\n",
       "      <td>0.144822</td>\n",
       "      <td>-0.018010</td>\n",
       "      <td>-0.100866</td>\n",
       "      <td>0.131591</td>\n",
       "      <td>0.196786</td>\n",
       "      <td>0.127755</td>\n",
       "      <td>1.000000</td>\n",
       "      <td>0.002120</td>\n",
       "      <td>0.067433</td>\n",
       "      <td>-0.003086</td>\n",
       "    </tr>\n",
       "    <tr>\n",
       "      <th>Work_accident</th>\n",
       "      <td>-0.154622</td>\n",
       "      <td>0.003425</td>\n",
       "      <td>0.058697</td>\n",
       "      <td>-0.007104</td>\n",
       "      <td>-0.004741</td>\n",
       "      <td>-0.010143</td>\n",
       "      <td>0.002120</td>\n",
       "      <td>1.000000</td>\n",
       "      <td>0.039245</td>\n",
       "      <td>-0.002506</td>\n",
       "    </tr>\n",
       "    <tr>\n",
       "      <th>promotion_last_5years</th>\n",
       "      <td>-0.061788</td>\n",
       "      <td>-0.027336</td>\n",
       "      <td>0.025605</td>\n",
       "      <td>-0.008684</td>\n",
       "      <td>-0.006064</td>\n",
       "      <td>-0.003544</td>\n",
       "      <td>0.067433</td>\n",
       "      <td>0.039245</td>\n",
       "      <td>1.000000</td>\n",
       "      <td>-0.001318</td>\n",
       "    </tr>\n",
       "    <tr>\n",
       "      <th>salary</th>\n",
       "      <td>-0.001294</td>\n",
       "      <td>0.000685</td>\n",
       "      <td>0.011754</td>\n",
       "      <td>0.013965</td>\n",
       "      <td>0.009672</td>\n",
       "      <td>0.007082</td>\n",
       "      <td>-0.003086</td>\n",
       "      <td>-0.002506</td>\n",
       "      <td>-0.001318</td>\n",
       "      <td>1.000000</td>\n",
       "    </tr>\n",
       "  </tbody>\n",
       "</table>\n",
       "</div>"
      ],
      "text/plain": [
       "                       attrition  department  satisfaction_level  \\\n",
       "attrition               1.000000    0.032105           -0.388375   \n",
       "department              0.032105    1.000000            0.003153   \n",
       "satisfaction_level     -0.388375    0.003153            1.000000   \n",
       "last_evaluation         0.006567    0.007772            0.105021   \n",
       "number_project          0.023787    0.009268           -0.142970   \n",
       "average_montly_hours    0.071287    0.003913           -0.020048   \n",
       "time_spend_company      0.144822   -0.018010           -0.100866   \n",
       "Work_accident          -0.154622    0.003425            0.058697   \n",
       "promotion_last_5years  -0.061788   -0.027336            0.025605   \n",
       "salary                 -0.001294    0.000685            0.011754   \n",
       "\n",
       "                       last_evaluation  number_project  average_montly_hours  \\\n",
       "attrition                     0.006567        0.023787              0.071287   \n",
       "department                    0.007772        0.009268              0.003913   \n",
       "satisfaction_level            0.105021       -0.142970             -0.020048   \n",
       "last_evaluation               1.000000        0.349333              0.339742   \n",
       "number_project                0.349333        1.000000              0.417211   \n",
       "average_montly_hours          0.339742        0.417211              1.000000   \n",
       "time_spend_company            0.131591        0.196786              0.127755   \n",
       "Work_accident                -0.007104       -0.004741             -0.010143   \n",
       "promotion_last_5years        -0.008684       -0.006064             -0.003544   \n",
       "salary                        0.013965        0.009672              0.007082   \n",
       "\n",
       "                       time_spend_company  Work_accident  \\\n",
       "attrition                        0.144822      -0.154622   \n",
       "department                      -0.018010       0.003425   \n",
       "satisfaction_level              -0.100866       0.058697   \n",
       "last_evaluation                  0.131591      -0.007104   \n",
       "number_project                   0.196786      -0.004741   \n",
       "average_montly_hours             0.127755      -0.010143   \n",
       "time_spend_company               1.000000       0.002120   \n",
       "Work_accident                    0.002120       1.000000   \n",
       "promotion_last_5years            0.067433       0.039245   \n",
       "salary                          -0.003086      -0.002506   \n",
       "\n",
       "                       promotion_last_5years    salary  \n",
       "attrition                          -0.061788 -0.001294  \n",
       "department                         -0.027336  0.000685  \n",
       "satisfaction_level                  0.025605  0.011754  \n",
       "last_evaluation                    -0.008684  0.013965  \n",
       "number_project                     -0.006064  0.009672  \n",
       "average_montly_hours               -0.003544  0.007082  \n",
       "time_spend_company                  0.067433 -0.003086  \n",
       "Work_accident                       0.039245 -0.002506  \n",
       "promotion_last_5years               1.000000 -0.001318  \n",
       "salary                             -0.001318  1.000000  "
      ]
     },
     "execution_count": 91,
     "metadata": {},
     "output_type": "execute_result"
    }
   ],
   "source": [
    "#Correlation Matrix\n",
    "data.corr()"
   ]
  },
  {
   "cell_type": "code",
   "execution_count": 92,
   "metadata": {
    "collapsed": false,
    "deletable": true,
    "editable": true
   },
   "outputs": [
    {
     "data": {
      "text/plain": [
       "<matplotlib.axes._subplots.AxesSubplot at 0x28d8c923908>"
      ]
     },
     "execution_count": 92,
     "metadata": {},
     "output_type": "execute_result"
    },
    {
     "data": {
      "image/png": "iVBORw0KGgoAAAANSUhEUgAAAdQAAAFkCAYAAACZ7coZAAAABHNCSVQICAgIfAhkiAAAAAlwSFlz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\n",
      "text/plain": [
       "<matplotlib.figure.Figure at 0x28d8c979da0>"
      ]
     },
     "metadata": {},
     "output_type": "display_data"
    }
   ],
   "source": [
    "# Create heatmap from correlation matrix\n",
    "corr = data.corr()\n",
    "corr = (corr)\n",
    "sbn.heatmap(corr, \n",
    "            xticklabels=corr.columns.values, \n",
    "            yticklabels=corr.columns.values)"
   ]
  },
  {
   "cell_type": "markdown",
   "metadata": {
    "deletable": true,
    "editable": true
   },
   "source": [
    "** Positively Correlated Features:** \n",
    "- number of projects vs average monthly hours:  0.417211\n",
    "- average monthly hours vs : 0.339742\n",
    "- last evaluation vs number of projects: 0.349333\n",
    "\n",
    "**Negatively Correlated Feature:**\n",
    " - satisfaction vs attrition:  -0.388375"
   ]
  },
  {
   "cell_type": "code",
   "execution_count": 93,
   "metadata": {
    "collapsed": false,
    "deletable": true,
    "editable": true
   },
   "outputs": [
    {
     "data": {
      "text/plain": [
       "<matplotlib.text.Text at 0x28d8cad2f28>"
      ]
     },
     "execution_count": 93,
     "metadata": {},
     "output_type": "execute_result"
    },
    {
     "data": {
      "image/png": "iVBORw0KGgoAAAANSUhEUgAAAYUAAAEaCAYAAAD+E0veAAAABHNCSVQICAgIfAhkiAAAAAlwSFlz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\nAElFTkSuQmCC\n",
      "text/plain": [
       "<matplotlib.figure.Figure at 0x28d8ca63048>"
      ]
     },
     "metadata": {},
     "output_type": "display_data"
    }
   ],
   "source": [
    "# Plot satisfation level of employees\n",
    "ax=sbn.kdeplot(data.loc[(data.attrition==0),'satisfaction_level'],label=\"Stayed\")\n",
    "ax=sbn.kdeplot(data.loc[(data.attrition==1),'satisfaction_level'],label=\"Left\")\n",
    "ax.set(xlabel='Satisfaction Level',ylabel=\"Frequency\")\n",
    "plt.title(\"Satisfaction Level of Employees\",fontsize=18)"
   ]
  },
  {
   "cell_type": "code",
   "execution_count": 94,
   "metadata": {
    "collapsed": false,
    "deletable": true,
    "editable": true
   },
   "outputs": [
    {
     "data": {
      "text/plain": [
       "<matplotlib.text.Text at 0x28d8cb81198>"
      ]
     },
     "execution_count": 94,
     "metadata": {},
     "output_type": "execute_result"
    },
    {
     "data": {
      "image/png": "iVBORw0KGgoAAAANSUhEUgAAAZMAAAEaCAYAAADUo7pxAAAABHNCSVQICAgIfAhkiAAAAAlwSFlz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\ns7b9HyAU8X1SvJXRAAAAAElFTkSuQmCC\n",
      "text/plain": [
       "<matplotlib.figure.Figure at 0x28d8c69c390>"
      ]
     },
     "metadata": {},
     "output_type": "display_data"
    }
   ],
   "source": [
    "# Plot attrition vs promotion\n",
    "sbn.barplot(data.attrition, data.promotion_last_5years)\n",
    "plt.title(\"Promotion in last 5 years vs Attrition\",fontsize=18)"
   ]
  },
  {
   "cell_type": "code",
   "execution_count": 95,
   "metadata": {
    "collapsed": false,
    "deletable": true,
    "editable": true
   },
   "outputs": [
    {
     "data": {
      "text/plain": [
       "<matplotlib.text.Text at 0x28d8dbdb4e0>"
      ]
     },
     "execution_count": 95,
     "metadata": {},
     "output_type": "execute_result"
    },
    {
     "data": {
      "image/png": "iVBORw0KGgoAAAANSUhEUgAAAYYAAAEaCAYAAAAVJPDdAAAABHNCSVQICAgIfAhkiAAAAAlwSFlz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\nZmY1nBjMzKyGE4OZmdVwYjAzsxr/DwoStrj1wuFeAAAAAElFTkSuQmCC\n",
      "text/plain": [
       "<matplotlib.figure.Figure at 0x28d8c99e358>"
      ]
     },
     "metadata": {},
     "output_type": "display_data"
    }
   ],
   "source": [
    "# plot attrition vs time spent in the company\n",
    "sbn.barplot(data.attrition, data.time_spend_company)\n",
    "plt.title(\"Time spent in company vs Attrition\",fontsize=18)"
   ]
  },
  {
   "cell_type": "markdown",
   "metadata": {
    "_cell_guid": "ccf20c1a-d8da-4001-90f3-ae314d1f87a0",
    "_uuid": "90367f2beb5a2313ca2eee5d7f78d4afd49fc0d2",
    "deletable": true,
    "editable": true
   },
   "source": [
    "\n",
    "Training the model:"
   ]
  },
  {
   "cell_type": "code",
   "execution_count": 96,
   "metadata": {
    "collapsed": false,
    "deletable": true,
    "editable": true
   },
   "outputs": [],
   "source": [
    "# Assign vlues\n",
    "X = data.drop('attrition', axis=1) \n",
    "Y = data.attrition"
   ]
  },
  {
   "cell_type": "code",
   "execution_count": 97,
   "metadata": {
    "collapsed": false,
    "deletable": true,
    "editable": true
   },
   "outputs": [],
   "source": [
    "# Train the model\n",
    "X_train, X_test, y_train, y_test = sklearn.model_selection.train_test_split(X, Y, random_state=0)"
   ]
  },
  {
   "cell_type": "code",
   "execution_count": 98,
   "metadata": {
    "collapsed": false,
    "deletable": true,
    "editable": true
   },
   "outputs": [],
   "source": [
    "# Apply logistic regression\n",
    "lr_model = LogisticRegression()\n",
    "fit = lr_model.fit(X_train, y_train)"
   ]
  },
  {
   "cell_type": "code",
   "execution_count": 99,
   "metadata": {
    "collapsed": false,
    "deletable": true,
    "editable": true
   },
   "outputs": [],
   "source": [
    "# get features and weights\n",
    "coeff = []\n",
    "coeff = np.array(fit.coef_)\n",
    "features = np.array(X.columns.values)\n",
    "weights = np.vstack((features, coeff))"
   ]
  },
  {
   "cell_type": "code",
   "execution_count": 100,
   "metadata": {
    "collapsed": false,
    "deletable": true,
    "editable": true,
    "scrolled": true
   },
   "outputs": [
    {
     "data": {
      "text/plain": [
       "array([['department', 'satisfaction_level', 'last_evaluation',\n",
       "        'number_project', 'average_montly_hours', 'time_spend_company',\n",
       "        'Work_accident', 'promotion_last_5years', 'salary'],\n",
       "       [0.042840623375433345, -4.065996952102828, 0.7514983445951922,\n",
       "        -0.3012000365385997, 0.00441431756097844, 0.2371872381362491,\n",
       "        -1.4393716621410304, -1.4671771476971367, 0.0030523960626672843]], dtype=object)"
      ]
     },
     "execution_count": 100,
     "metadata": {},
     "output_type": "execute_result"
    }
   ],
   "source": [
    "# print weights of each feature\n",
    "weights"
   ]
  },
  {
   "cell_type": "code",
   "execution_count": 101,
   "metadata": {
    "collapsed": false,
    "deletable": true,
    "editable": true
   },
   "outputs": [
    {
     "data": {
      "text/plain": [
       "0.76400000000000001"
      ]
     },
     "execution_count": 101,
     "metadata": {},
     "output_type": "execute_result"
    }
   ],
   "source": [
    "# 76.4% accuracy achieved\n",
    "lr_model.score(X_test,y_test)"
   ]
  },
  {
   "cell_type": "code",
   "execution_count": 102,
   "metadata": {
    "collapsed": false,
    "deletable": true,
    "editable": true
   },
   "outputs": [
    {
     "data": {
      "text/plain": [
       "array([[ 0.61988364,  0.38011636],\n",
       "       [ 0.6705052 ,  0.3294948 ],\n",
       "       [ 0.92231785,  0.07768215],\n",
       "       ..., \n",
       "       [ 0.79853904,  0.20146096],\n",
       "       [ 0.76046835,  0.23953165],\n",
       "       [ 0.7433782 ,  0.2566218 ]])"
      ]
     },
     "execution_count": 102,
     "metadata": {},
     "output_type": "execute_result"
    }
   ],
   "source": [
    "# Find predicted probability from the fitted model\n",
    "predict_proba = lr_model.predict_proba(X_test)\n",
    "predict_proba"
   ]
  },
  {
   "cell_type": "markdown",
   "metadata": {
    "deletable": true,
    "editable": true
   },
   "source": [
    "Using the above probability values, employees with >90% probability are highly likely to leave. Inline with the findings of this report [section 5], employer should take steps to provide enrichment and support to help the employee stay."
   ]
  },
  {
   "cell_type": "code",
   "execution_count": null,
   "metadata": {
    "collapsed": true,
    "deletable": true,
    "editable": true
   },
   "outputs": [],
   "source": []
  }
 ],
 "metadata": {
  "kernelspec": {
   "display_name": "Python 3",
   "language": "python",
   "name": "python3"
  },
  "language_info": {
   "codemirror_mode": {
    "name": "ipython",
    "version": 3
   },
   "file_extension": ".py",
   "mimetype": "text/x-python",
   "name": "python",
   "nbconvert_exporter": "python",
   "pygments_lexer": "ipython3",
   "version": "3.6.0"
  }
 },
 "nbformat": 4,
 "nbformat_minor": 1
}
